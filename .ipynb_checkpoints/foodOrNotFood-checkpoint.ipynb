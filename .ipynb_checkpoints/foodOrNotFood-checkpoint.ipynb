{
 "cells": [
  {
   "cell_type": "code",
   "execution_count": 10,
   "id": "44b9bac1",
   "metadata": {},
   "outputs": [],
   "source": [
    "import os\n",
    "import numpy as np\n",
    "import pandas as pd\n",
    "import tensorflow as tf"
   ]
  },
  {
   "cell_type": "code",
   "execution_count": 11,
   "id": "1b627a85",
   "metadata": {},
   "outputs": [],
   "source": [
    "from tensorflow.keras.preprocessing.image import ImageDataGenerator\n",
    "\n",
    "train_datagen = ImageDataGenerator(\n",
    "    featurewise_center = True,\n",
    "    featurewise_std_normalization = True,\n",
    "    rotation_range = 20,\n",
    "    width_shift_range = 0.2,\n",
    "    height_shift_range = 0.2,\n",
    "    horizontal_flip = True,\n",
    ")\n",
    "val_datagen = ImageDataGenerator(\n",
    "    featurewise_center = True,\n",
    "    featurewise_std_normalization = True,\n",
    "    rotation_range = 20,\n",
    "    width_shift_range = 0.2,\n",
    "    height_shift_range = 0.2,\n",
    "    horizontal_flip = True,\n",
    ")"
   ]
  },
  {
   "cell_type": "code",
   "execution_count": 12,
   "id": "66dc9a30",
   "metadata": {},
   "outputs": [
    {
     "name": "stdout",
     "output_type": "stream",
     "text": [
      "Found 3000 images belonging to 2 classes.\n",
      "Found 1000 images belonging to 2 classes.\n"
     ]
    }
   ],
   "source": [
    "train_generator = train_datagen.flow_from_directory('food dataset/training',batch_size = 32, class_mode = 'binary', target_size = (224,224))\n",
    "\n",
    "val_generator = val_datagen.flow_from_directory('food dataset/validation',batch_size = 32, class_mode = 'binary', target_size = (224,224))"
   ]
  },
  {
   "cell_type": "code",
   "execution_count": 13,
   "id": "6665b772",
   "metadata": {},
   "outputs": [
    {
     "data": {
      "text/plain": [
       "{'food': 0, 'non_food': 1}"
      ]
     },
     "execution_count": 13,
     "metadata": {},
     "output_type": "execute_result"
    }
   ],
   "source": [
    "train_generator.class_indices"
   ]
  },
  {
   "cell_type": "code",
   "execution_count": 8,
   "id": "d13766d2",
   "metadata": {},
   "outputs": [
    {
     "name": "stdout",
     "output_type": "stream",
     "text": [
      "Downloading data from https://storage.googleapis.com/tensorflow/keras-applications/resnet/resnet50_weights_tf_dim_ordering_tf_kernels_notop.h5\n",
      "94765736/94765736 [==============================] - 80s 1us/step\n",
      "Model: \"model\"\n",
      "_________________________________________________________________\n",
      " Layer (type)                Output Shape              Param #   \n",
      "=================================================================\n",
      " input_2 (InputLayer)        [(None, 224, 224, 3)]     0         \n",
      "                                                                 \n",
      " resnet50 (Functional)       (None, 7, 7, 2048)        23587712  \n",
      "                                                                 \n",
      " global_average_pooling2d (G  (None, 2048)             0         \n",
      " lobalAveragePooling2D)                                          \n",
      "                                                                 \n",
      " dense (Dense)               (None, 2)                 4098      \n",
      "                                                                 \n",
      "=================================================================\n",
      "Total params: 23,591,810\n",
      "Trainable params: 4,098\n",
      "Non-trainable params: 23,587,712\n",
      "_________________________________________________________________\n"
     ]
    }
   ],
   "source": [
    "from tensorflow.keras.applications import ResNet50\n",
    "\n",
    "feature_extractor = ResNet50(weights='imagenet', input_shape = (224,224,3), include_top = False)\n",
    "feature_extractor.trainable = False\n",
    "input_ = tf.keras.Input(shape=(224,224,3))\n",
    "X = feature_extractor(input_, training=False)\n",
    "X = tf.keras.layers.GlobalAvgPool2D()(X)\n",
    "output_ = tf.keras.layers.Dense(2,activation='softmax')(X)\n",
    "model = tf.keras.Model(input_, output_)\n",
    "model.compile(optimizer='adam',loss=\"sparse_categorical_crossentropy\",metrics=['accuracy'])\n",
    "model.summary()"
   ]
  },
  {
   "cell_type": "code",
   "execution_count": 9,
   "id": "43db5a2f",
   "metadata": {},
   "outputs": [
    {
     "name": "stderr",
     "output_type": "stream",
     "text": [
      "C:\\Users\\Khine Yin\\anaconda3\\lib\\site-packages\\keras\\preprocessing\\image.py:1861: UserWarning: This ImageDataGenerator specifies `featurewise_center`, but it hasn't been fit on any training data. Fit it first by calling `.fit(numpy_data)`.\n",
      "  warnings.warn(\n",
      "C:\\Users\\Khine Yin\\anaconda3\\lib\\site-packages\\keras\\preprocessing\\image.py:1871: UserWarning: This ImageDataGenerator specifies `featurewise_std_normalization`, but it hasn't been fit on any training data. Fit it first by calling `.fit(numpy_data)`.\n",
      "  warnings.warn(\n"
     ]
    },
    {
     "name": "stdout",
     "output_type": "stream",
     "text": [
      "Epoch 1/10\n",
      "94/94 [==============================] - 1637s 17s/step - loss: 0.2090 - accuracy: 0.9127 - val_loss: 0.1238 - val_accuracy: 0.9490\n",
      "Epoch 2/10\n",
      "94/94 [==============================] - 1661s 18s/step - loss: 0.0923 - accuracy: 0.9667 - val_loss: 0.0933 - val_accuracy: 0.9700\n",
      "Epoch 3/10\n",
      "94/94 [==============================] - 1656s 18s/step - loss: 0.0752 - accuracy: 0.9717 - val_loss: 0.0873 - val_accuracy: 0.9660\n",
      "Epoch 4/10\n",
      "94/94 [==============================] - 1632s 17s/step - loss: 0.0659 - accuracy: 0.9773 - val_loss: 0.0834 - val_accuracy: 0.9740\n",
      "Epoch 5/10\n",
      "94/94 [==============================] - 1655s 18s/step - loss: 0.0542 - accuracy: 0.9793 - val_loss: 0.0669 - val_accuracy: 0.9720\n",
      "Epoch 6/10\n",
      "94/94 [==============================] - 1640s 17s/step - loss: 0.0397 - accuracy: 0.9870 - val_loss: 0.0950 - val_accuracy: 0.9610\n",
      "Epoch 7/10\n",
      "94/94 [==============================] - 1630s 17s/step - loss: 0.0468 - accuracy: 0.9830 - val_loss: 0.0790 - val_accuracy: 0.9690\n",
      "Epoch 8/10\n",
      "94/94 [==============================] - 1627s 17s/step - loss: 0.0375 - accuracy: 0.9863 - val_loss: 0.0618 - val_accuracy: 0.9760\n",
      "Epoch 9/10\n",
      "94/94 [==============================] - 1639s 17s/step - loss: 0.0368 - accuracy: 0.9880 - val_loss: 0.0636 - val_accuracy: 0.9810\n",
      "Epoch 10/10\n",
      "94/94 [==============================] - 1625s 17s/step - loss: 0.0342 - accuracy: 0.9880 - val_loss: 0.0657 - val_accuracy: 0.9760\n"
     ]
    },
    {
     "data": {
      "text/plain": [
       "<keras.callbacks.History at 0x226ae241780>"
      ]
     },
     "execution_count": 9,
     "metadata": {},
     "output_type": "execute_result"
    }
   ],
   "source": [
    "model.fit(train_generator, epochs=10, validation_data=val_generator)"
   ]
  },
  {
   "cell_type": "code",
   "execution_count": 10,
   "id": "f77d3cbf",
   "metadata": {},
   "outputs": [
    {
     "name": "stderr",
     "output_type": "stream",
     "text": [
      "WARNING:absl:Found untraced functions such as _update_step_xla, _jit_compiled_convolution_op, _jit_compiled_convolution_op, _jit_compiled_convolution_op, _jit_compiled_convolution_op while saving (showing 5 of 54). These functions will not be directly callable after loading.\n"
     ]
    },
    {
     "name": "stdout",
     "output_type": "stream",
     "text": [
      "INFO:tensorflow:Assets written to: ./resnet50_food_model\\assets\n"
     ]
    },
    {
     "name": "stderr",
     "output_type": "stream",
     "text": [
      "INFO:tensorflow:Assets written to: ./resnet50_food_model\\assets\n"
     ]
    }
   ],
   "source": [
    "model.save('./resnet50_food_model')"
   ]
  },
  {
   "cell_type": "code",
   "execution_count": 14,
   "id": "a348d22d",
   "metadata": {},
   "outputs": [],
   "source": [
    "load_model = tf.keras.models.load_model('./resnet50_food_model')"
   ]
  },
  {
   "cell_type": "code",
   "execution_count": null,
   "id": "f6e70f5b",
   "metadata": {},
   "outputs": [],
   "source": [
    "from PIL import Image"
   ]
  },
  {
   "cell_type": "code",
   "execution_count": null,
   "id": "2bdfa624",
   "metadata": {},
   "outputs": [],
   "source": [
    "from sklearn.metrics import classification_report, confusion_matrix\n",
    "\n",
    "y_true = []\n",
    "y_pred = []\n",
    "\n",
    "#for food\n",
    "for i in os.listdir('food dataset/evaluation/food/'):\n",
    "    img = Image.open('food dataset/evaluation/food/' + i)\n",
    "    img = img.resize((224, 224))\n",
    "    img = np.array(img)\n",
    "    img = np.expand_dims(img, 0)\n",
    "    pred = load_model.predict(img)[0]\n",
    "    y_true.append(1)\n",
    "    y_pred.append(1 if pred[0] > 0.5 else 0)\n",
    "    \n",
    "#for non-food\n",
    "for i in os.listdir('food dataset/evaluation/non_food/'):\n",
    "    img = Image.open('food dataset/evaluation/non_food/' + i)\n",
    "    img = img.resize((224, 224))\n",
    "    img = np.array(img)\n",
    "    img = np.expand_dims(img, 0)\n",
    "    pred = load_model.predict(img)[0]\n",
    "    y_true.append(0)\n",
    "    y_pred.append(1 if pred[0] > 0.5 else 0)"
   ]
  },
  {
   "cell_type": "code",
   "execution_count": null,
   "id": "849b77a1",
   "metadata": {},
   "outputs": [],
   "source": [
    "print(classification_report(y_true,y_pred))\n",
    "print()\n",
    "print(confusion_matrix(y_true,y_pred))"
   ]
  },
  {
   "cell_type": "code",
   "execution_count": 16,
   "id": "a4009fef",
   "metadata": {},
   "outputs": [],
   "source": [
    "def predict_image(image_path):\n",
    "    img = Image.open(image_path)\n",
    "    img.show()\n",
    "    img = img.resize((224,224))\n",
    "    img = np.array(img)\n",
    "    img = np.expand_dims(img,0)\n",
    "    pred = load_model.predict(img)[0]\n",
    "    \n",
    "    labels = [\"Food\", \"Non-food\"]\n",
    "    return {labels[i]:float(pred[i]) for i in range(2)}"
   ]
  },
  {
   "cell_type": "code",
   "execution_count": 17,
   "id": "7ae6854c",
   "metadata": {},
   "outputs": [
    {
     "name": "stdout",
     "output_type": "stream",
     "text": [
      "1/1 [==============================] - 3s 3s/step\n"
     ]
    },
    {
     "data": {
      "text/plain": [
       "{'Food': 0.9999932050704956, 'Non-food': 6.829431640653638e-06}"
      ]
     },
     "execution_count": 17,
     "metadata": {},
     "output_type": "execute_result"
    }
   ],
   "source": [
    "predict_image('food dataset/evaluation/non_food/6.jpg')"
   ]
  },
  {
   "cell_type": "code",
   "execution_count": null,
   "id": "773e3ef0",
   "metadata": {},
   "outputs": [],
   "source": []
  }
 ],
 "metadata": {
  "kernelspec": {
   "display_name": "Python 3 (ipykernel)",
   "language": "python",
   "name": "python3"
  },
  "language_info": {
   "codemirror_mode": {
    "name": "ipython",
    "version": 3
   },
   "file_extension": ".py",
   "mimetype": "text/x-python",
   "name": "python",
   "nbconvert_exporter": "python",
   "pygments_lexer": "ipython3",
   "version": "3.10.9"
  },
  "varInspector": {
   "cols": {
    "lenName": 16,
    "lenType": 16,
    "lenVar": 40
   },
   "kernels_config": {
    "python": {
     "delete_cmd_postfix": "",
     "delete_cmd_prefix": "del ",
     "library": "var_list.py",
     "varRefreshCmd": "print(var_dic_list())"
    },
    "r": {
     "delete_cmd_postfix": ") ",
     "delete_cmd_prefix": "rm(",
     "library": "var_list.r",
     "varRefreshCmd": "cat(var_dic_list()) "
    }
   },
   "types_to_exclude": [
    "module",
    "function",
    "builtin_function_or_method",
    "instance",
    "_Feature"
   ],
   "window_display": false
  }
 },
 "nbformat": 4,
 "nbformat_minor": 5
}
